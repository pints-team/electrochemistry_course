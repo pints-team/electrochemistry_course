{
 "cells": [
  {
   "cell_type": "markdown",
   "metadata": {
    "slideshow": {
     "slide_type": "slide"
    }
   },
   "source": [
    "# Lecture 1: Bayesian Inference\n",
    "\n",
    "by Martin Robinson\n",
    "\n",
    "```\n",
    "Oxford Research Software Engineering group (http://www.cs.ox.ac.uk/projects/RSE)\n",
    "Department of Computer Science\n",
    "University of Oxford\n",
    "Pints: https://github.com/pints-team/pints\n",
    "```\n"
   ]
  },
  {
   "cell_type": "markdown",
   "metadata": {
    "slideshow": {
     "slide_type": "slide"
    }
   },
   "source": [
    "# Who am I?\n",
    "\n",
    "- PhD in Mathematical Science at Monash University\n",
    "- Now a:\n",
    "    - Senior Research Software Engineer in the [Oxford RSE group](http://www.cs.ox.ac.uk/projects/RSE)\n",
    "    - Co-director of EPSRC & MRC [Sustainable Approaches to Biomedical Science Centre for Doctoral Training: Responsible and Reproducible Research](https://sabsr3.web.ox.ac.uk), or SABS:R3 \n",
    "- Research Interests include:\n",
    "    - numerical modelling and simulation\n",
    "    - particle-based methods\n",
    "    - Bayesian inference\n",
    "    - developing robust and reliable software for research\n",
    "        - see [Aboria](https://github.com/aboria/Aboria), Chaste, PINTS, Smoldyn, SPH-DEM, PyBaMM and Trase\n",
    "    "
   ]
  },
  {
   "cell_type": "markdown",
   "metadata": {
    "slideshow": {
     "slide_type": "slide"
    }
   },
   "source": [
    "# Course Structure\n",
    "\n",
    "- Lecture 1: Bayesian Inference\n",
    "- Lecture 2: Maximum Likelihood Estimation\n",
    "- Lecture 3: MCMC sampling\n",
    "- Lecture 4: Hierarchical models"
   ]
  },
  {
   "cell_type": "markdown",
   "metadata": {
    "slideshow": {
     "slide_type": "slide"
    }
   },
   "source": [
    "# Lecture Structure\n",
    "\n",
    "- What is Bayesian Inference?\n",
    "- Bayes Theorem\n",
    "- Introdcution to Pints"
   ]
  },
  {
   "cell_type": "markdown",
   "metadata": {
    "slideshow": {
     "slide_type": "slide"
    }
   },
   "source": [
    "# Acknowledgements"
   ]
  },
  {
   "cell_type": "markdown",
   "metadata": {
    "slideshow": {
     "slide_type": "slide"
    }
   },
   "source": [
    "# What is Bayesian Statistics?\n",
    "\n",
    "- A statistical philosophy, or a way of thinking about probabilities\n",
    "\n",
    "**Frequentist:** $\\;P(A)\\;$ describes the limiting frequency of an event $A$. there is a fixed value of $\\;P(A)\\;$ that must be calculated e.g. proportion of heads from a fair coin toss will approach 0.5 after a large number of trials\n",
    "\n",
    "**Bayesian:** $\\;P(A)\\;$ is a measure of centainty, quantification of investigators belief that $\\;A\\;$ is true a fixed value of $\\;P(A)\\;$ is not neccessary, nor desirable. Pior information must be used to augment sample data\n"
   ]
  },
  {
   "cell_type": "markdown",
   "metadata": {
    "slideshow": {
     "slide_type": "slide"
    }
   },
   "source": [
    "# What is Bayesian Inference?\n",
    "\n",
    "\n",
    "\n",
    "An method of inference, that uses Bayes' theorem to update prior beliefs after obtaining new data $y$\n",
    "\n",
    "- *Likelihood function:* the probability of obtaining the data $y$, given a set of parameters $\\theta$\n",
    "- *Prior probability distribution:* encodes your uncertainty in the parameters before the data $y$ has been obtained\n",
    "\n",
    "```\n",
    "                     Bayes' Theorem\n",
    "likelihood + prior -------------------> posterior\n",
    "```\n",
    "\n",
    "- *Posterior distribution:* updated probability distribution of $\\theta$, given the new data $y$"
   ]
  },
  {
   "cell_type": "markdown",
   "metadata": {},
   "source": [
    "# Tangible benefits of Bayesian inference\n",
    "\n",
    "- Straightforward application to scientific modelling and experimentatal data analysis\n",
    "- Simple and intuitive model building (unlike frequentist statistics there is no need to remember lots of specific formulae).\n",
    "- Exhaustive and creative model testing.\n",
    "- Straightforward interpretation of results.\n"
   ]
  }
 ],
 "metadata": {
  "celltoolbar": "Slideshow",
  "kernelspec": {
   "display_name": "Python 3",
   "language": "python",
   "name": "python3"
  },
  "language_info": {
   "codemirror_mode": {
    "name": "ipython",
    "version": 3
   },
   "file_extension": ".py",
   "mimetype": "text/x-python",
   "name": "python",
   "nbconvert_exporter": "python",
   "pygments_lexer": "ipython3",
   "version": "3.6.7"
  }
 },
 "nbformat": 4,
 "nbformat_minor": 2
}
