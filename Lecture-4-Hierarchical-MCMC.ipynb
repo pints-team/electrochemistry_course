{
 "cells": [
  {
   "cell_type": "code",
   "execution_count": null,
   "metadata": {
    "slideshow": {
     "slide_type": "skip"
    }
   },
   "outputs": [],
   "source": [
    "import numpy as np\n",
    "\n",
    "##################################################\n",
    "##### Matplotlib boilerplate for consistency #####\n",
    "##################################################\n",
    "from ipywidgets import interact\n",
    "from ipywidgets import FloatSlider\n",
    "from matplotlib import pyplot as plt\n",
    "\n",
    "%matplotlib inline\n",
    "\n",
    "from IPython.display import set_matplotlib_formats\n",
    "set_matplotlib_formats('svg')\n",
    "\n",
    "global_fig_width = 8\n",
    "global_fig_height = global_fig_width / 1.61803399\n",
    "font_size = 12\n",
    "\n",
    "plt.rcParams['axes.axisbelow'] = True\n",
    "plt.rcParams['axes.edgecolor'] = '0.8'\n",
    "plt.rcParams['axes.grid'] = True\n",
    "plt.rcParams['axes.labelpad'] = 8\n",
    "plt.rcParams['axes.linewidth'] = 2\n",
    "plt.rcParams['axes.titlepad'] = 16.0\n",
    "plt.rcParams['axes.titlesize'] = font_size * 1.4\n",
    "plt.rcParams['figure.figsize'] = (global_fig_width, global_fig_height)\n",
    "plt.rcParams['font.sans-serif'] = ['Computer Modern Sans Serif', 'DejaVu Sans', 'sans-serif']\n",
    "plt.rcParams['font.size'] = font_size\n",
    "plt.rcParams['grid.color'] = '0.8'\n",
    "plt.rcParams['grid.linestyle'] = 'dashed'\n",
    "plt.rcParams['grid.linewidth'] = 2\n",
    "plt.rcParams['lines.dash_capstyle'] = 'round'\n",
    "plt.rcParams['lines.dashed_pattern'] = [1, 4]\n",
    "plt.rcParams['xtick.labelsize'] = font_size\n",
    "plt.rcParams['xtick.major.pad'] = 4\n",
    "plt.rcParams['xtick.major.size'] = 0\n",
    "plt.rcParams['ytick.labelsize'] = font_size\n",
    "plt.rcParams['ytick.major.pad'] = 4\n",
    "plt.rcParams['ytick.major.size'] = 0\n",
    "##################################################"
   ]
  },
  {
   "cell_type": "markdown",
   "metadata": {
    "slideshow": {
     "slide_type": "slide"
    }
   },
   "source": [
    "## Conditional distributions\n",
    "\n",
    "### Example Two-dimensional distribution:\n",
    "- Imagine you are interested in the interrelation between the circumference of a person’s head ($H$) and the volume of their brain ($B$).\n",
    "- Based on data we find there is a positive correlation between these two variables, which we represent in a distribution $P(H, B)$.\n",
    "\n",
    "![](fig/Human-brain.SVG)"
   ]
  },
  {
   "cell_type": "code",
   "execution_count": null,
   "metadata": {
    "slideshow": {
     "slide_type": "skip"
    }
   },
   "outputs": [],
   "source": [
    "from scipy.stats import multivariate_normal\n",
    "\n",
    "def brain_pdf(xy):\n",
    "    return multivariate_normal.pdf(xy, mean=[0, 0], cov=[[0.2, 0.1],[0.1,0.2]]); y\n",
    "\n",
    "def show_brain_distribution(conditional=False):\n",
    "    x = np.linspace(-1, 1, 50)\n",
    "    y = np.linspace(-1, 1, 40)\n",
    "\n",
    "    X, Y = np.meshgrid(x, y)\n",
    "    XY = np.column_stack([X.flat, Y.flat])\n",
    "\n",
    "    Z = brain_pdf(XY).reshape(X.shape)\n",
    "    \n",
    "    plt.contourf(X, Y, Z, 20, cmap='RdGy');\n",
    "    \n",
    "    if conditional:\n",
    "        plt.plot([-1,1],[])\n",
    "    plt.xlabel(r'$H$')\n",
    "    plt.ylabel(r'$B$')\n",
    "    plt.colorbar()"
   ]
  },
  {
   "cell_type": "code",
   "execution_count": null,
   "metadata": {
    "slideshow": {
     "slide_type": "slide"
    }
   },
   "outputs": [],
   "source": [
    "show_brain_distribution()"
   ]
  },
  {
   "cell_type": "code",
   "execution_count": null,
   "metadata": {
    "slideshow": {
     "slide_type": "slide"
    }
   },
   "outputs": [],
   "source": [
    "## Conditional distributions\n",
    "\n",
    "- **Question:** If an individual has a brain volume of 1450cm3, then what does the distribution for their head circumference look like?\n",
    "- **Answer:** Use law of conditional probability:\n",
    "\n",
    "$$P(H|B = 1450) = \\frac{P(B = 1450, H)} {P(B = 1450)}$$\n",
    "\n",
    "- **Analogy:** imagine walking over the probability distribution along a line of B = 1450cm3, and recording your height as you go."
   ]
  }
 ],
 "metadata": {
  "language_info": {
   "name": "python",
   "pygments_lexer": "ipython3"
  }
 },
 "nbformat": 4,
 "nbformat_minor": 2
}
