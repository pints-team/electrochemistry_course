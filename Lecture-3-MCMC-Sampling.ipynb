{
 "cells": [
  {
   "cell_type": "code",
   "execution_count": null,
   "metadata": {
    "slideshow": {
     "slide_type": "skip"
    }
   },
   "outputs": [],
   "source": [
    "import numpy as np\n",
    "\n",
    "##################################################\n",
    "##### Matplotlib boilerplate for consistency #####\n",
    "##################################################\n",
    "from ipywidgets import interact\n",
    "from ipywidgets import FloatSlider\n",
    "from matplotlib import pyplot as plt\n",
    "\n",
    "%matplotlib inline\n",
    "\n",
    "from IPython.display import set_matplotlib_formats\n",
    "set_matplotlib_formats('svg')\n",
    "\n",
    "global_fig_width = 8\n",
    "global_fig_height = global_fig_width / 1.61803399\n",
    "font_size = 12\n",
    "\n",
    "plt.rcParams['axes.axisbelow'] = True\n",
    "plt.rcParams['axes.edgecolor'] = '0.8'\n",
    "plt.rcParams['axes.grid'] = True\n",
    "plt.rcParams['axes.labelpad'] = 8\n",
    "plt.rcParams['axes.linewidth'] = 2\n",
    "plt.rcParams['axes.titlepad'] = 16.0\n",
    "plt.rcParams['axes.titlesize'] = font_size * 1.4\n",
    "plt.rcParams['figure.figsize'] = (global_fig_width, global_fig_height)\n",
    "plt.rcParams['font.sans-serif'] = ['Computer Modern Sans Serif', 'DejaVu Sans', 'sans-serif']\n",
    "plt.rcParams['font.size'] = font_size\n",
    "plt.rcParams['grid.color'] = '0.8'\n",
    "plt.rcParams['grid.linestyle'] = 'dashed'\n",
    "plt.rcParams['grid.linewidth'] = 2\n",
    "plt.rcParams['lines.dash_capstyle'] = 'round'\n",
    "plt.rcParams['lines.dashed_pattern'] = [1, 4]\n",
    "plt.rcParams['xtick.labelsize'] = font_size\n",
    "plt.rcParams['xtick.major.pad'] = 4\n",
    "plt.rcParams['xtick.major.size'] = 0\n",
    "plt.rcParams['ytick.labelsize'] = font_size\n",
    "plt.rcParams['ytick.major.pad'] = 4\n",
    "plt.rcParams['ytick.major.size'] = 0\n",
    "##################################################"
   ]
  },
  {
   "cell_type": "markdown",
   "metadata": {
    "slideshow": {
     "slide_type": "slide"
    }
   },
   "source": [
    "## Generating independent samples: sine curve\n",
    "\n",
    "**Question:** how can we generate independent samples from the following (un-normalised) PDF?"
   ]
  },
  {
   "cell_type": "code",
   "execution_count": null,
   "metadata": {
    "slideshow": {
     "slide_type": "skip"
    }
   },
   "outputs": [],
   "source": [
    "def show_pdf():\n",
    "    x = np.linspace(0,4*np.pi,100)\n",
    "    y = 0.5*(1 + np.sin(2*(x-np.pi/4)))\n",
    "    plt.plot(x,y)\n",
    "    plt.fill_between(x,y,alpha=0.2)\n",
    "    plt.xlabel(r'$x$')\n",
    "    plt.ylabel(r'$P(x)$')\n",
    "    plt.show()"
   ]
  },
  {
   "cell_type": "code",
   "execution_count": null,
   "metadata": {
    "slideshow": {
     "slide_type": "-"
    }
   },
   "outputs": [],
   "source": [
    "show_pdf()"
   ]
  },
  {
   "cell_type": "markdown",
   "metadata": {
    "slideshow": {
     "slide_type": "slide"
    }
   },
   "source": [
    "**Answer:** do the following a large number of times:\n",
    "1. Generate $x$ coordinates: uniformly-distributed points from $(0, 4\\pi)$; where $4\\pi$ is the domain of the function.\n",
    "2. Generate $y$ coordinates: uniformly-distributed points from $(0, 1)$; where 1 is the maximum value of the function.\n",
    "3. If $y < P(x)$, then accept $x$ coordinate as a sample.\n",
    "4. If $y \\ge P(x)$, then reject $x$ coordinate as a sample.\n",
    "Known as **Rejection** sampling."
   ]
  },
  {
   "cell_type": "code",
   "execution_count": null,
   "metadata": {
    "slideshow": {
     "slide_type": "-"
    }
   },
   "outputs": [],
   "source": [
    "def P(x):\n",
    "    return 0.5*(1 + np.sin(2*(x-np.pi/4)))\n",
    "\n",
    "N = 100000\n",
    "x = np.random.uniform(0,4*np.pi,N)\n",
    "y = np.random.uniform(0,1,N)\n",
    "x_samples = x[y < P(x)]"
   ]
  },
  {
   "cell_type": "code",
   "execution_count": null,
   "metadata": {
    "slideshow": {
     "slide_type": "slide"
    }
   },
   "outputs": [],
   "source": [
    "plt.hist(x_samples,bins=100,density=True)\n",
    "plt.show()"
   ]
  },
  {
   "cell_type": "markdown",
   "metadata": {
    "slideshow": {
     "slide_type": "slide"
    }
   },
   "source": [
    "## Why do sampling in the first place?\n",
    "\n",
    "Samples from the posterior:\n",
    "\n",
    "$$P(\\theta | data) = \\frac{P(data|\\theta) P(\\theta)}{P(data)}$$\n",
    "\n",
    "- Shows the likely *distribution* of parameters, rather than single most likely point. Shows:\n",
    " - Correlated parameters\n",
    " - Unidentifiable parameters\n",
    " - Confidence intervals"
   ]
  },
  {
   "cell_type": "markdown",
   "metadata": {
    "slideshow": {
     "slide_type": "slide"
    }
   },
   "source": [
    "## Why do sampling in the first place?\n",
    "\n",
    "- Often, want to calculate the posterior mean of some parameter, $\\theta_1$:\n",
    "    \n",
    "$$\n",
    "E(\\theta_1|X) = \\int_{\\theta_1} \\int_{\\theta_{-1}} \n",
    "\\theta_1  P(\\theta_1, \\theta_{-1} | X)d \\theta_{-1} d \\theta_1\n",
    "$$\n",
    "\n",
    "where $\\theta_{-1}$ corresponds to the $d − 1$ other parameters of the\n",
    "model.\n",
    "\n",
    "- Posterior mean can be approximated by summing over posterior samples\n",
    "\n",
    "- Marginal distributions can also be obtained from posterior samples:\n",
    "\n",
    "$$\n",
    "P(\\theta_1|X) = \\int_{\\theta_{-1}} P(\\theta_1, \\theta_{-1} | X)d \\theta_{-1}\n",
    "$$"
   ]
  },
  {
   "cell_type": "markdown",
   "metadata": {
    "slideshow": {
     "slide_type": "slide"
    }
   },
   "source": [
    "## Why is generating independent samples difficult?\n",
    "\n",
    "- **Rejection sampling** requires generation of a large number\n",
    "of random points to produce relatively few samples.\n",
    "- This inefficiency increases (exponentially) with the\n",
    "dimensionality of the distribution; i.e. for posteriors with\n",
    "more parameters.\n",
    "- Other methods exist (inverse-transform sampling and\n",
    "importance sampling, for example) but they suffer from\n",
    "complexity and/or inefficiency issues.\n",
    "- We cannot calculate the denominator so are unable to use\n",
    "some of these methods.\n",
    "- Even if we had the denominator the complexity of most\n",
    "models means that independent sampling isn’t possible."
   ]
  },
  {
   "cell_type": "markdown",
   "metadata": {
    "slideshow": {
     "slide_type": "slide"
    }
   },
   "source": [
    "## Is sampling finished?\n",
    "\n",
    "<center>\n",
    "<img src=\"fig/sad-clown.jpg\"> \n",
    "</center>"
   ]
  },
  {
   "cell_type": "markdown",
   "metadata": {
    "slideshow": {
     "slide_type": "slide"
    }
   },
   "source": [
    "## What is dependent sampling?\n",
    "\n",
    "- A sampling algorithm where the next sample depends on the current value, and the list of all (accepted) positions of the\n",
    "sampler form the sample.\n",
    "\n",
    "**Example dependent sampler:** \n",
    "\n",
    "choose a new\n",
    "position based on a local “jumping” distribution\n",
    "Suppose the next value of the sampler is drawn from a 2d\n",
    "normal distribution centred on our current position."
   ]
  },
  {
   "cell_type": "code",
   "execution_count": null,
   "metadata": {
    "slideshow": {
     "slide_type": "slide"
    }
   },
   "outputs": [],
   "source": [
    "# show dependent sampler here?"
   ]
  },
  {
   "cell_type": "markdown",
   "metadata": {
    "slideshow": {
     "slide_type": "slide"
    }
   },
   "source": [
    "## Dependent samplers as Markov Chains (Monte Carlo)\n",
    "\n",
    "- Where to step next is determined via a distribution\n",
    "conditional on the current parameter value.\n",
    "- This stepping is probabilistic $\\rightarrow$ *Monte Carlo*.\n",
    "- The conditional distribution only depends on the current\n",
    "value of the sampler meaning it is memoryless about past\n",
    "path.\n",
    "- This memoryless means that the path of the sampler is a\n",
    "*1st order Markov Chain*."
   ]
  },
  {
   "cell_type": "markdown",
   "metadata": {
    "slideshow": {
     "slide_type": "slide"
    }
   },
   "source": [
    "## Open questions\n",
    "\n",
    "How can we decide on the:\n",
    "1. Starting position.\n",
    "2. Jumping distribution’s shape.\n",
    "\n",
    "To ensure convergence to the posterior distribution? Especially\n",
    "because we cannot compute the posterior itself!"
   ]
  },
  {
   "cell_type": "markdown",
   "metadata": {
    "slideshow": {
     "slide_type": "slide"
    }
   },
   "source": [
    "# Random Walk Metropolis\n",
    "\n",
    "A discrete example: **David Robinson’s fishing**\n",
    "    \n",
    "- David Robinson (a more fortunate cousin of Robinson\n",
    "Crusoe) is marooned on an island.\n",
    "- Access to four freshwater lakes of different sizes; each with\n",
    "a supply of fish.\n",
    "\n",
    "<center>\n",
    "<img src=\"fig/david_robinson.svg\"> \n",
    "</center>"
   ]
  },
  {
   "cell_type": "markdown",
   "metadata": {
    "slideshow": {
     "slide_type": "slide"
    }
   },
   "source": [
    "## David Robinson’s fishing\n",
    "\n",
    "- He has a terrible memory (too much coconut toddy), and\n",
    "each day forgets any estimates of lake size he made\n",
    "previously.\n",
    "- He wants to fish (at maximum) one new lake per day.\n",
    "- He possesses a coin and a solar-powered calculator that\n",
    "can generate (pseudo-)random numbers uniformly\n",
    "distributed between 0 and 1.\n",
    "- He is initially “washed up” next to lake A.\n",
    "\n",
    "<center>\n",
    "<img src=\"fig/david_robinson.svg\"> \n",
    "</center>"
   ]
  },
  {
   "cell_type": "markdown",
   "metadata": {
    "slideshow": {
     "slide_type": "slide"
    }
   },
   "source": [
    "**Question:** What strategy should he use to fish as\n",
    "sustainably as possible?\n",
    "\n",
    "**Remember:** Robinson doesn’t know the # of lakes, nor\n",
    "the amount of fish in each!\n",
    "\n",
    "<center>\n",
    "<img src=\"fig/david_robinson.svg\"> \n",
    "</center>"
   ]
  },
  {
   "cell_type": "markdown",
   "metadata": {
    "slideshow": {
     "slide_type": "slide"
    }
   },
   "source": [
    "**Answer:** visit each lake in proportion to the fish it contains, by\n",
    "doing the following:\n",
    "1. Each night he flips the coin.\n",
    "2. If it’s heads (tails) he proposes a move to the neighbouring\n",
    "lake in the clockwise (anticlockwise) direction.\n",
    "3. Calculates the ratio of the size of the proposed lake to the\n",
    "current one.\n",
    "4. Compares the ratio with a (pseudo-)random number from\n",
    "the calculator.\n",
    "5. If the ratio exceeds the generated number, he moves. If\n",
    "not, he stays put and fishes the same lake tomorrow."
   ]
  },
  {
   "cell_type": "markdown",
   "metadata": {
    "slideshow": {
     "slide_type": "slide"
    }
   },
   "source": [
    "## David Robinson’s fishing: does it work?"
   ]
  },
  {
   "cell_type": "code",
   "execution_count": null,
   "metadata": {
    "slideshow": {
     "slide_type": "slide"
    }
   },
   "outputs": [],
   "source": [
    "\n",
    "from matplotlib import animation\n",
    "from IPython.display import HTML\n",
    "\n",
    "f, (ax1, ax2) = plt.subplots(1, 2, figsize=(10, 8/1.618))\n",
    "N = 100\n",
    "x = [0, 1, 2, 3]\n",
    "lakes = [2.0, 1.0, 4.0, 2.0]\n",
    "days = [0.0, 0.0, 0.0, 0.0]\n",
    "current_lake = 0\n",
    "\n",
    "def plot():\n",
    "    ax1.clear()\n",
    "    days_dots, = ax1.plot(x, days, 'bo', ms=8, label='poisson pmf')\n",
    "    days_lines = ax1.vlines(x, 0, days, colors='b', lw=5, alpha=0.5)\n",
    "    ax1.set_ylim(0,N/2)\n",
    "    return (days_dots, days_lines)\n",
    "\n",
    "lake_dots, = ax2.plot(x, lakes, 'bo', ms=8, label='poisson pmf')\n",
    "lake_lines = ax2.vlines(x, 0, lakes, colors='b', lw=5, alpha=0.5)\n",
    "plot()\n",
    "\n",
    "def init():\n",
    "    pl = plot()\n",
    "    return pl\n",
    "    \n",
    "def animate(i):\n",
    "    current_lake = 1\n",
    "    proposed_lake = current_lake + int(np.random.uniform() < 0.5)\n",
    "    ratio = lakes[proposed_lake]/lakes[current_lake]\n",
    "    if ratio > np.random.uniform():\n",
    "        current_lake = proposed_lake\n",
    "    days[current_lake] += 1\n",
    "    \n",
    "    pl = plot()\n",
    "    return pl\n",
    "    #days_dots.set_data(x,days)\n",
    "\n",
    "    #days_lines.set_data(x,days)\n",
    "    \n",
    "    \n",
    "# call the animator.  blit=True means only re-draw the parts that have changed.\n",
    "anim = animation.FuncAnimation(f, animate,init_func=init,\n",
    "                               frames=N, interval=20, blit=True)\n",
    "\n",
    "# call our new function to display the animation\n",
    "HTML(anim.to_jshtml())"
   ]
  },
  {
   "cell_type": "code",
   "execution_count": null,
   "metadata": {},
   "outputs": [],
   "source": []
  }
 ],
 "metadata": {
  "language_info": {
   "name": "python",
   "pygments_lexer": "ipython3"
  }
 },
 "nbformat": 4,
 "nbformat_minor": 2
}
